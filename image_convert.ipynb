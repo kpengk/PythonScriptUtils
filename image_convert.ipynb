{
 "cells": [
  {
   "cell_type": "code",
   "execution_count": 22,
   "metadata": {},
   "outputs": [],
   "source": [
    "from PIL import Image, ImageDraw, ImageFont\n",
    "import numpy as np\n",
    "import os\n",
    "import glob"
   ]
  },
  {
   "cell_type": "code",
   "execution_count": 16,
   "metadata": {},
   "outputs": [],
   "source": [
    "# 将图像按奇偶行拆分（输入图片，偶数行输出，奇数行输出）\n",
    "def img_split_by_rows(input, even_path, odd_path):\n",
    "    # 打开灰度图像\n",
    "    img = Image.open(input)\n",
    "\n",
    "    # 将图像转换为NumPy数组\n",
    "    img_array = np.array(img)\n",
    "\n",
    "    # 拆分奇偶行\n",
    "    even_rows = img_array[::2]  # 获取偶数行\n",
    "    odd_rows = img_array[1::2]  # 获取奇数行\n",
    "\n",
    "    # 创建新的图片对象\n",
    "    even_rows_img = Image.fromarray(even_rows)\n",
    "    odd_rows_img = Image.fromarray(odd_rows)\n",
    "\n",
    "    # 保存拆分后的图片\n",
    "    even_rows_img.save(even_path)\n",
    "    odd_rows_img.save(odd_path)"
   ]
  },
  {
   "cell_type": "code",
   "execution_count": 17,
   "metadata": {},
   "outputs": [],
   "source": [
    "def to_png(intput, output):\n",
    "    img = Image.open(intput)\n",
    "    img.save(output, format=\"PNG\")"
   ]
  },
  {
   "cell_type": "code",
   "execution_count": 28,
   "metadata": {},
   "outputs": [],
   "source": [
    "def to_jpeg(intput, output, q = 75):\n",
    "    img = Image.open(intput)\n",
    "    img.save(output, format=\"JPEG\", quality=q)"
   ]
  },
  {
   "cell_type": "code",
   "execution_count": null,
   "metadata": {},
   "outputs": [],
   "source": [
    "def to_gray(intput, output, q = 75):\n",
    "    img = Image.open(intput)\n",
    "    # 将图像转换为灰度图\n",
    "    gray_img = img.convert('L')\n",
    "    gray_img.save(output, format=\"JPEG\", quality=q)"
   ]
  },
  {
   "cell_type": "code",
   "execution_count": 37,
   "metadata": {},
   "outputs": [],
   "source": [
    "# 在图片上绘制文字，其中灰度图时color为一个int值\n",
    "def image_draw_text(input, output, text, point=(10, 10), color=(255, 0, 0), fontsize=24, q=100):\n",
    "    image = Image.open(input)\n",
    "    # 创建一个可以在图片上绘制的对象\n",
    "    draw = ImageDraw.Draw(image) \n",
    "    # 选择一个字体\n",
    "    #font = ImageFont.load_default()\n",
    "    font = ImageFont.truetype(\"arial.ttf\", fontsize)\n",
    "    # 加上文字\n",
    "    draw.text(point, text, fill=color, font=font)\n",
    "    image.save(output, quality=q)"
   ]
  },
  {
   "cell_type": "code",
   "execution_count": 38,
   "metadata": {},
   "outputs": [],
   "source": [
    "def images_draw_id(in_dir, out_dir, prefix): \n",
    "    # 如果路径不存在，创建路径\n",
    "    if not os.path.exists(out_dir):\n",
    "        os.makedirs(out_dir)\n",
    "    # 使用 glob 模块匹配所有 jpg 文件\n",
    "    jpg_files = glob.glob(os.path.join(in_dir, '*.jpg'))\n",
    "    for index, filepath in enumerate(jpg_files):\n",
    "        filename = os.path.basename(filepath)\n",
    "        out_filepath = os.path.join(out_dir, filename)\n",
    "        image_draw_text(filepath, out_filepath, '{}-{}'.format(prefix, index), point=(10, 10), color=255)"
   ]
  },
  {
   "cell_type": "code",
   "execution_count": 39,
   "metadata": {},
   "outputs": [],
   "source": [
    "base_dir = 'D:/Project/Rail/ZhanTai/PrislensService-FromFile/test_data'\n",
    "images_draw_id(os.path.join(base_dir, 'data2d/30'), os.path.join(base_dir, 'data2d_id/30'), 'camera[30]')\n",
    "images_draw_id(os.path.join(base_dir, 'data2d/31'), os.path.join(base_dir, 'data2d_id/31'), 'camera[31]')\n",
    "images_draw_id(os.path.join(base_dir, 'data2d/32'), os.path.join(base_dir, 'data2d_id/32'), 'camera[32]')\n",
    "images_draw_id(os.path.join(base_dir, 'data2d/33'), os.path.join(base_dir, 'data2d_id/33'), 'camera[33]')"
   ]
  },
  {
   "cell_type": "code",
   "execution_count": null,
   "metadata": {},
   "outputs": [],
   "source": []
  }
 ],
 "metadata": {
  "kernelspec": {
   "display_name": "Python 3",
   "language": "python",
   "name": "python3"
  },
  "language_info": {
   "codemirror_mode": {
    "name": "ipython",
    "version": 3
   },
   "file_extension": ".py",
   "mimetype": "text/x-python",
   "name": "python",
   "nbconvert_exporter": "python",
   "pygments_lexer": "ipython3",
   "version": "3.9.12"
  }
 },
 "nbformat": 4,
 "nbformat_minor": 2
}
