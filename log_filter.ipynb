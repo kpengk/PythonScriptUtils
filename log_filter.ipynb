{
 "cells": [
  {
   "cell_type": "code",
   "execution_count": 1,
   "metadata": {},
   "outputs": [],
   "source": [
    "import re\n",
    "from matplotlib import pyplot as plt\n",
    "from datetime import datetime\n",
    "from datetime import date\n",
    "import numpy as np"
   ]
  },
  {
   "cell_type": "code",
   "execution_count": 2,
   "metadata": {},
   "outputs": [],
   "source": [
    "def contain_words(line:str, words:list[str]) -> bool:\n",
    "    for filter in words:\n",
    "        if filter in line:\n",
    "            return True\n",
    "    return False"
   ]
  },
  {
   "cell_type": "code",
   "execution_count": 23,
   "metadata": {},
   "outputs": [],
   "source": [
    "def filter_log(file_name:str, key_words:list[str], contain=True):\n",
    "    out_file=open('filter_out.log','w', encoding='utf-8')\n",
    "    with open(file_name,'r') as f:\n",
    "        for line in f:\n",
    "            contain_key = contain_words(line, key_words)\n",
    "            if  contain and contain_key:\n",
    "                out_file.write(line)\n",
    "            elif (not contain) and (not contain_key):\n",
    "                out_file.write(line)\n",
    "    out_file.close()"
   ]
  },
  {
   "cell_type": "code",
   "execution_count": 41,
   "metadata": {},
   "outputs": [],
   "source": [
    "log_file_name = 'data/defect_show_error_logs/RailMeasure.exe.log'"
   ]
  },
  {
   "cell_type": "code",
   "execution_count": 43,
   "metadata": {},
   "outputs": [],
   "source": [
    "filter_list = ['Push defect to cache']\n",
    "filter_log(log_file_name, filter_list, True)"
   ]
  },
  {
   "cell_type": "code",
   "execution_count": 11,
   "metadata": {},
   "outputs": [],
   "source": [
    "filter_list = ['status', 'calculation', 'unprocessed', 'data_end_callback', 'Stored data length', 'Storage', 'push profile', 'enqueue']\n",
    "filter_log(log_file_name, filter_list, True)"
   ]
  },
  {
   "cell_type": "code",
   "execution_count": 17,
   "metadata": {},
   "outputs": [],
   "source": [
    "filter_list_not = ['Defect', 'Re queue', 'Printed', 'Print', 'Camera2D', 'Synchronize', 'Detect', 'Tapping', 'Trademark']\n",
    "filter_log(log_file_name, filter_list_not, False)"
   ]
  },
  {
   "cell_type": "code",
   "execution_count": null,
   "metadata": {},
   "outputs": [],
   "source": []
  }
 ],
 "metadata": {
  "kernelspec": {
   "display_name": "base",
   "language": "python",
   "name": "python3"
  },
  "language_info": {
   "codemirror_mode": {
    "name": "ipython",
    "version": 3
   },
   "file_extension": ".py",
   "mimetype": "text/x-python",
   "name": "python",
   "nbconvert_exporter": "python",
   "pygments_lexer": "ipython3",
   "version": "3.9.12"
  },
  "orig_nbformat": 4,
  "vscode": {
   "interpreter": {
    "hash": "f2d996236baa7b6e2f079f9c8a0706eb2d783ca855786ba79a4b8fb51190b240"
   }
  }
 },
 "nbformat": 4,
 "nbformat_minor": 2
}
