{
 "cells": [
  {
   "cell_type": "markdown",
   "metadata": {},
   "source": [
    "# 2022年11月28日测试分析\n",
    "连续10次测量长度为10米冷态钢轨"
   ]
  },
  {
   "cell_type": "code",
   "execution_count": 11,
   "metadata": {},
   "outputs": [],
   "source": [
    "import numpy as np\n",
    "import pandas as pd\n",
    "import matplotlib.pyplot as plt\n",
    "import os"
   ]
  },
  {
   "cell_type": "markdown",
   "metadata": {},
   "source": [
    "## 数据读取与平滑"
   ]
  },
  {
   "cell_type": "code",
   "execution_count": 12,
   "metadata": {},
   "outputs": [],
   "source": [
    "# 预处理\n",
    "def preprocess(data):\n",
    "    hx = []\n",
    "    h = []\n",
    "    wx = []\n",
    "    w = []\n",
    "    for i in range(data.shape[1]):\n",
    "        if data[1][i] > 0:\n",
    "            hx.append(data[0][i])\n",
    "            h.append(data[1][i])\n",
    "        if data[2][i] > 0:\n",
    "            wx.append(data[0][i])\n",
    "            w.append(data[2][i])\n",
    "    return np.asarray(hx), np.asarray(h), np.asarray(wx), np.asarray(w)"
   ]
  },
  {
   "cell_type": "code",
   "execution_count": 13,
   "metadata": {},
   "outputs": [],
   "source": [
    "# 过滤异常值\n",
    "def filter_outlier(data):\n",
    "    data = np.nan_to_num(data)\n",
    "    k = 5\n",
    "    for i in range(k, data.shape[0] - k):\n",
    "        temp = data[i - k : i + k].copy()\n",
    "        temp[k] = (temp[k - 1] + temp[k + 1]) / 2\n",
    "        data_mean = np.mean(temp)\n",
    "        data_std = np.std(temp)\n",
    "        left = data_mean - 1.5 * data_std\n",
    "        right = data_mean + 1.5 * data_std\n",
    "        if data[i] < left or data[i] > right:\n",
    "            data[i] = data_mean\n",
    "    return data"
   ]
  },
  {
   "cell_type": "code",
   "execution_count": 14,
   "metadata": {},
   "outputs": [],
   "source": [
    "# 中值滤波\n",
    "def filter_mid(data):\n",
    "    data = np.nan_to_num(data)\n",
    "    new_data = data.copy()\n",
    "    k = 40\n",
    "    i = 40\n",
    "    data_mean = np.mean(data)\n",
    "    dstd = np.std(data)\n",
    "    print(\"data mean\", data_mean, ' std ', dstd)\n",
    "    while i < data.shape[0] - k:\n",
    "        temp = data[i - k : i + k].copy()\n",
    "        temp.sort()\n",
    "        data_std = np.std(temp)\n",
    "        for j in range(i - k, i + k):\n",
    "            if np.abs(new_data[j] - data_mean) > dstd or j > data.shape[0] - 500:\n",
    "                new_data[j] = data_mean\n",
    "            elif np.abs(new_data[j] - temp[k]) > 1.5 * data_std:\n",
    "                new_data[j] = temp[k]\n",
    "        i += 2 * k\n",
    "    temp = data[i - 2 * k : data.shape[0]].copy()\n",
    "    temp.sort()\n",
    "    data_std = np.std(temp)\n",
    "    for ii in range(i - 2 * k, data.shape[0]):\n",
    "        if np.abs(new_data[ii] - data_mean) > dstd or ii > data.shape[0] - 500:\n",
    "            new_data[ii] = data_mean\n",
    "    return new_data"
   ]
  },
  {
   "cell_type": "code",
   "execution_count": 19,
   "metadata": {},
   "outputs": [],
   "source": [
    "# 均值滤波\n",
    "def filter_mean(data):\n",
    "    data = np.nan_to_num(data)\n",
    "    new_data = data.copy()\n",
    "    k = 50\n",
    "    for i in range(k, data.shape[0] - k):\n",
    "        temp = data[i - k : i + k]\n",
    "        new_data[i] = np.mean(temp)\n",
    "    return new_data"
   ]
  },
  {
   "cell_type": "code",
   "execution_count": 22,
   "metadata": {},
   "outputs": [],
   "source": [
    "def filter(data):\n",
    "    data = filter_mid(data)\n",
    "    data = filter_mean(data)\n",
    "    return data"
   ]
  },
  {
   "cell_type": "code",
   "execution_count": 23,
   "metadata": {},
   "outputs": [
    {
     "name": "stdout",
     "output_type": "stream",
     "text": [
      "Using matplotlib backend: QtAgg\n",
      "data_mean 70.59030487684088  data std  8.754919815148515\n"
     ]
    },
    {
     "data": {
      "text/plain": [
       "[<matplotlib.lines.Line2D at 0x1d7380f0ee0>]"
      ]
     },
     "execution_count": 23,
     "metadata": {},
     "output_type": "execute_result"
    }
   ],
   "source": [
    "all_data = pd.read_csv('correct_data.csv')\n",
    "series = all_data['头宽1']\n",
    "\n",
    "%matplotlib\n",
    "plt.figure(figsize=(20, 10))\n",
    "plt.subplot(2,1,1)\n",
    "# 原始数据图\n",
    "plt.plot(series)\n",
    "\n",
    "# 滤波后\n",
    "val = filter(series)\n",
    "plt.subplot(2,1,2)\n",
    "plt.plot(val)"
   ]
  },
  {
   "cell_type": "code",
   "execution_count": null,
   "metadata": {},
   "outputs": [],
   "source": []
  }
 ],
 "metadata": {
  "kernelspec": {
   "display_name": "Python 3.9.12 ('base')",
   "language": "python",
   "name": "python3"
  },
  "language_info": {
   "codemirror_mode": {
    "name": "ipython",
    "version": 3
   },
   "file_extension": ".py",
   "mimetype": "text/x-python",
   "name": "python",
   "nbconvert_exporter": "python",
   "pygments_lexer": "ipython3",
   "version": "3.9.12 (main, Apr  4 2022, 05:22:27) [MSC v.1916 64 bit (AMD64)]"
  },
  "orig_nbformat": 4,
  "vscode": {
   "interpreter": {
    "hash": "f2d996236baa7b6e2f079f9c8a0706eb2d783ca855786ba79a4b8fb51190b240"
   }
  }
 },
 "nbformat": 4,
 "nbformat_minor": 2
}
