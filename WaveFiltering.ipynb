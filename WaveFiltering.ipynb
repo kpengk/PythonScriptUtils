{
 "cells": [
  {
   "cell_type": "code",
   "execution_count": 2,
   "metadata": {},
   "outputs": [],
   "source": [
    "import scipy.signal as signal\n",
    "import numpy as np\n",
    "import pylab as pl\n",
    "import pandas as pd\n",
    "import matplotlib.pyplot as plt\n",
    "import matplotlib"
   ]
  },
  {
   "cell_type": "code",
   "execution_count": 3,
   "metadata": {},
   "outputs": [],
   "source": [
    "'''\n",
    "算术平均滤波法\n",
    "'''\n",
    "def ArithmeticAverage(inputs,per):\n",
    "\tif np.shape(inputs)[0] % per != 0:\n",
    "\t\tlengh = np.shape(inputs)[0] / per\n",
    "\t\tfor x in range(int(np.shape(inputs)[0]),int(lengh + 1)*per):\n",
    "\t\t\tinputs = np.append(inputs,inputs[np.shape(inputs)[0]-1])\n",
    "\tinputs = inputs.reshape((-1,per))\n",
    "\tmean = []\n",
    "\tfor tmp in inputs:\n",
    "\t\tmean.append(tmp.mean())\n",
    "\treturn mean"
   ]
  },
  {
   "cell_type": "code",
   "execution_count": 4,
   "metadata": {},
   "outputs": [],
   "source": [
    "'''\n",
    "递推平均滤波法\n",
    "'''\n",
    "def SlidingAverage(inputs,per):\n",
    "\tif np.shape(inputs)[0] % per != 0:\n",
    "\t\tlengh = np.shape(inputs)[0] / per\n",
    "\t\tfor x in range(int(np.shape(inputs)[0]),int(lengh + 1)*per):\n",
    "\t\t\tinputs = np.append(inputs,inputs[np.shape(inputs)[0]-1])\n",
    "\tinputs = inputs.reshape((-1,per))\n",
    "\ttmpmean = inputs[0].mean()\n",
    "\tmean = []\n",
    "\tfor tmp in inputs:\n",
    "\t\tmean.append((tmpmean+tmp.mean())/2)\n",
    "\t\ttmpmean = tmp.mean()\n",
    "\treturn mean"
   ]
  },
  {
   "cell_type": "code",
   "execution_count": 5,
   "metadata": {},
   "outputs": [],
   "source": [
    "'''\n",
    "中值平均滤波法\n",
    "'''\n",
    "def MedianAverage(inputs,per):\n",
    "\tif np.shape(inputs)[0] % per != 0:\n",
    "\t\tlengh = np.shape(inputs)[0] / per\n",
    "\t\tfor x in range(int(np.shape(inputs)[0]),int(lengh + 1)*per):\n",
    "\t\t\tinputs = np.append(inputs,inputs[np.shape(inputs)[0]-1])\n",
    "\tinputs = inputs.reshape((-1,per))\n",
    "\tmean = []\n",
    "\tfor tmp in inputs:\n",
    "\t\ttmp = np.delete(tmp,np.where(tmp==tmp.max())[0],axis = 0)\n",
    "\t\ttmp = np.delete(tmp,np.where(tmp==tmp.min())[0],axis = 0)\n",
    "\t\tmean.append(tmp.mean())\n",
    "\treturn mean"
   ]
  },
  {
   "cell_type": "code",
   "execution_count": 6,
   "metadata": {},
   "outputs": [],
   "source": [
    "'''\n",
    "限幅平均滤波法\n",
    "Amplitude:\t限制最大振幅\n",
    "'''\n",
    "def AmplitudeLimitingAverage(inputs,per,Amplitude):\n",
    "\tif np.shape(inputs)[0] % per != 0:\n",
    "\t\tlengh = np.shape(inputs)[0] / per\n",
    "\t\tfor x in range(int(np.shape(inputs)[0]),int(lengh + 1)*per):\n",
    "\t\t\tinputs = np.append(inputs,inputs[np.shape(inputs)[0]-1])\n",
    "\tinputs = inputs.reshape((-1,per))\n",
    "\tmean = []\n",
    "\ttmpmean = inputs[0].mean()\n",
    "\ttmpnum = inputs[0][0]\t\t\t\t\t\t#上一次限幅后结果\n",
    "\tfor tmp in inputs:\n",
    "\t\tfor index,newtmp in enumerate(tmp):\n",
    "\t\t\tif np.abs(tmpnum-newtmp) > Amplitude:\n",
    "\t\t\t\ttmp[index] = tmpnum\n",
    "\t\t\ttmpnum = newtmp\n",
    "\t\tmean.append((tmpmean+tmp.mean())/2)\n",
    "\t\ttmpmean = tmp.mean()\n",
    "\treturn mean"
   ]
  },
  {
   "cell_type": "code",
   "execution_count": 7,
   "metadata": {},
   "outputs": [],
   "source": [
    "'''\n",
    "一阶滞后滤波法\n",
    "a:\t\t\t滞后程度决定因子，0~1\n",
    "'''\n",
    "def FirstOrderLag(inputs,a):\n",
    "\ttmpnum = inputs[0]\t\t\t\t\t\t\t#上一次滤波结果\n",
    "\tfor index,tmp in enumerate(inputs):\n",
    "\t\tinputs[index] = (1-a)*tmp + a*tmpnum\n",
    "\t\ttmpnum = tmp\n",
    "\treturn inputs"
   ]
  },
  {
   "cell_type": "code",
   "execution_count": 8,
   "metadata": {},
   "outputs": [],
   "source": [
    "'''\n",
    "加权递推平均滤波法\n",
    "'''\n",
    "def WeightBackstepAverage(inputs,per):\n",
    "\tweight = np.array(range(1,np.shape(inputs)[0]+1))\t\t\t#权值列表\n",
    "\tweight = weight/weight.sum()\n",
    " \n",
    "\tfor index,tmp in enumerate(inputs):\n",
    "\t\tinputs[index] = inputs[index]*weight[index]\n",
    "\treturn inputs"
   ]
  },
  {
   "cell_type": "code",
   "execution_count": 9,
   "metadata": {},
   "outputs": [],
   "source": [
    "'''\n",
    "消抖滤波法\n",
    "N:\t\t\t消抖上限\n",
    "'''\n",
    "def ShakeOff(inputs,N):\n",
    "\tusenum = inputs[0]\t\t\t\t\t\t\t\t#有效值\n",
    "\ti = 0 \t\t\t\t\t\t\t\t\t\t\t#标记计数器\n",
    "\tfor index,tmp in enumerate(inputs):\n",
    "\t\tif tmp != usenum:\t\t\t\t\t\n",
    "\t\t\ti = i + 1\n",
    "\t\t\tif i >= N:\n",
    "\t\t\t\ti = 0\n",
    "\t\t\t\tinputs[index] = usenum\n",
    "\treturn inputs"
   ]
  },
  {
   "cell_type": "code",
   "execution_count": 10,
   "metadata": {},
   "outputs": [],
   "source": [
    "'''\n",
    "限幅消抖滤波法\n",
    "Amplitude:\t限制最大振幅\n",
    "N:\t\t\t消抖上限\n",
    "'''\n",
    "def AmplitudeLimitingShakeOff(inputs,Amplitude,N):\n",
    "\t#print(inputs)\n",
    "\ttmpnum = inputs[0]\n",
    "\tfor index,newtmp in enumerate(inputs):\n",
    "\t\tif np.abs(tmpnum-newtmp) > Amplitude:\n",
    "\t\t\tinputs[index] = tmpnum\n",
    "\t\ttmpnum = newtmp\n",
    "\t#print(inputs)\n",
    "\tusenum = inputs[0]\n",
    "\ti = 0\n",
    "\tfor index2,tmp2 in enumerate(inputs):\n",
    "\t\tif tmp2 != usenum:\n",
    "\t\t\ti = i + 1\n",
    "\t\t\tif i >= N:\n",
    "\t\t\t\ti = 0\n",
    "\t\t\t\tinputs[index2] = usenum\n",
    "\t#print(inputs)\n",
    "\treturn inputs"
   ]
  },
  {
   "cell_type": "code",
   "execution_count": 11,
   "metadata": {},
   "outputs": [],
   "source": [
    "def gradient(inputs):\n",
    "    result = []\n",
    "    prev_val = 0\n",
    "    for val in inputs:\n",
    "        result.append(val - prev_val)\n",
    "        prev_val = val\n",
    "    return result"
   ]
  },
  {
   "cell_type": "code",
   "execution_count": 12,
   "metadata": {},
   "outputs": [],
   "source": [
    "def gradient_filter(inputs, min_gradient, max_gradient):\n",
    "    result = []\n",
    "    prev_val = 0\n",
    "    for val in inputs:\n",
    "        gradient_val = val - prev_val\n",
    "        if gradient_val > min_gradient and gradient_val < max_gradient:\n",
    "            result.append(val)\n",
    "            prev_val = val\n",
    "        else:\n",
    "            result.append(prev_val)\n",
    "    return result"
   ]
  },
  {
   "cell_type": "code",
   "execution_count": 13,
   "metadata": {},
   "outputs": [
    {
     "ename": "FileNotFoundError",
     "evalue": "[Errno 2] No such file or directory: 'RAIL-speed.csv'",
     "output_type": "error",
     "traceback": [
      "\u001b[1;31m---------------------------------------------------------------------------\u001b[0m",
      "\u001b[1;31mFileNotFoundError\u001b[0m                         Traceback (most recent call last)",
      "\u001b[1;32md:\\Python\\WaveFiltering.ipynb Cell 12\u001b[0m in \u001b[0;36m<cell line: 1>\u001b[1;34m()\u001b[0m\n\u001b[1;32m----> <a href='vscode-notebook-cell:/d%3A/Python/WaveFiltering.ipynb#X14sZmlsZQ%3D%3D?line=0'>1</a>\u001b[0m all_data \u001b[39m=\u001b[39m pd\u001b[39m.\u001b[39;49mread_csv(\u001b[39m'\u001b[39;49m\u001b[39mRAIL-speed.csv\u001b[39;49m\u001b[39m'\u001b[39;49m)\n\u001b[0;32m      <a href='vscode-notebook-cell:/d%3A/Python/WaveFiltering.ipynb#X14sZmlsZQ%3D%3D?line=1'>2</a>\u001b[0m all_data\n",
      "File \u001b[1;32mc:\\Users\\Glasssix-KP\\anaconda3\\lib\\site-packages\\pandas\\util\\_decorators.py:311\u001b[0m, in \u001b[0;36mdeprecate_nonkeyword_arguments.<locals>.decorate.<locals>.wrapper\u001b[1;34m(*args, **kwargs)\u001b[0m\n\u001b[0;32m    305\u001b[0m \u001b[39mif\u001b[39;00m \u001b[39mlen\u001b[39m(args) \u001b[39m>\u001b[39m num_allow_args:\n\u001b[0;32m    306\u001b[0m     warnings\u001b[39m.\u001b[39mwarn(\n\u001b[0;32m    307\u001b[0m         msg\u001b[39m.\u001b[39mformat(arguments\u001b[39m=\u001b[39marguments),\n\u001b[0;32m    308\u001b[0m         \u001b[39mFutureWarning\u001b[39;00m,\n\u001b[0;32m    309\u001b[0m         stacklevel\u001b[39m=\u001b[39mstacklevel,\n\u001b[0;32m    310\u001b[0m     )\n\u001b[1;32m--> 311\u001b[0m \u001b[39mreturn\u001b[39;00m func(\u001b[39m*\u001b[39margs, \u001b[39m*\u001b[39m\u001b[39m*\u001b[39mkwargs)\n",
      "File \u001b[1;32mc:\\Users\\Glasssix-KP\\anaconda3\\lib\\site-packages\\pandas\\io\\parsers\\readers.py:680\u001b[0m, in \u001b[0;36mread_csv\u001b[1;34m(filepath_or_buffer, sep, delimiter, header, names, index_col, usecols, squeeze, prefix, mangle_dupe_cols, dtype, engine, converters, true_values, false_values, skipinitialspace, skiprows, skipfooter, nrows, na_values, keep_default_na, na_filter, verbose, skip_blank_lines, parse_dates, infer_datetime_format, keep_date_col, date_parser, dayfirst, cache_dates, iterator, chunksize, compression, thousands, decimal, lineterminator, quotechar, quoting, doublequote, escapechar, comment, encoding, encoding_errors, dialect, error_bad_lines, warn_bad_lines, on_bad_lines, delim_whitespace, low_memory, memory_map, float_precision, storage_options)\u001b[0m\n\u001b[0;32m    665\u001b[0m kwds_defaults \u001b[39m=\u001b[39m _refine_defaults_read(\n\u001b[0;32m    666\u001b[0m     dialect,\n\u001b[0;32m    667\u001b[0m     delimiter,\n\u001b[1;32m   (...)\u001b[0m\n\u001b[0;32m    676\u001b[0m     defaults\u001b[39m=\u001b[39m{\u001b[39m\"\u001b[39m\u001b[39mdelimiter\u001b[39m\u001b[39m\"\u001b[39m: \u001b[39m\"\u001b[39m\u001b[39m,\u001b[39m\u001b[39m\"\u001b[39m},\n\u001b[0;32m    677\u001b[0m )\n\u001b[0;32m    678\u001b[0m kwds\u001b[39m.\u001b[39mupdate(kwds_defaults)\n\u001b[1;32m--> 680\u001b[0m \u001b[39mreturn\u001b[39;00m _read(filepath_or_buffer, kwds)\n",
      "File \u001b[1;32mc:\\Users\\Glasssix-KP\\anaconda3\\lib\\site-packages\\pandas\\io\\parsers\\readers.py:575\u001b[0m, in \u001b[0;36m_read\u001b[1;34m(filepath_or_buffer, kwds)\u001b[0m\n\u001b[0;32m    572\u001b[0m _validate_names(kwds\u001b[39m.\u001b[39mget(\u001b[39m\"\u001b[39m\u001b[39mnames\u001b[39m\u001b[39m\"\u001b[39m, \u001b[39mNone\u001b[39;00m))\n\u001b[0;32m    574\u001b[0m \u001b[39m# Create the parser.\u001b[39;00m\n\u001b[1;32m--> 575\u001b[0m parser \u001b[39m=\u001b[39m TextFileReader(filepath_or_buffer, \u001b[39m*\u001b[39m\u001b[39m*\u001b[39mkwds)\n\u001b[0;32m    577\u001b[0m \u001b[39mif\u001b[39;00m chunksize \u001b[39mor\u001b[39;00m iterator:\n\u001b[0;32m    578\u001b[0m     \u001b[39mreturn\u001b[39;00m parser\n",
      "File \u001b[1;32mc:\\Users\\Glasssix-KP\\anaconda3\\lib\\site-packages\\pandas\\io\\parsers\\readers.py:933\u001b[0m, in \u001b[0;36mTextFileReader.__init__\u001b[1;34m(self, f, engine, **kwds)\u001b[0m\n\u001b[0;32m    930\u001b[0m     \u001b[39mself\u001b[39m\u001b[39m.\u001b[39moptions[\u001b[39m\"\u001b[39m\u001b[39mhas_index_names\u001b[39m\u001b[39m\"\u001b[39m] \u001b[39m=\u001b[39m kwds[\u001b[39m\"\u001b[39m\u001b[39mhas_index_names\u001b[39m\u001b[39m\"\u001b[39m]\n\u001b[0;32m    932\u001b[0m \u001b[39mself\u001b[39m\u001b[39m.\u001b[39mhandles: IOHandles \u001b[39m|\u001b[39m \u001b[39mNone\u001b[39;00m \u001b[39m=\u001b[39m \u001b[39mNone\u001b[39;00m\n\u001b[1;32m--> 933\u001b[0m \u001b[39mself\u001b[39m\u001b[39m.\u001b[39m_engine \u001b[39m=\u001b[39m \u001b[39mself\u001b[39;49m\u001b[39m.\u001b[39;49m_make_engine(f, \u001b[39mself\u001b[39;49m\u001b[39m.\u001b[39;49mengine)\n",
      "File \u001b[1;32mc:\\Users\\Glasssix-KP\\anaconda3\\lib\\site-packages\\pandas\\io\\parsers\\readers.py:1217\u001b[0m, in \u001b[0;36mTextFileReader._make_engine\u001b[1;34m(self, f, engine)\u001b[0m\n\u001b[0;32m   1213\u001b[0m     mode \u001b[39m=\u001b[39m \u001b[39m\"\u001b[39m\u001b[39mrb\u001b[39m\u001b[39m\"\u001b[39m\n\u001b[0;32m   1214\u001b[0m \u001b[39m# error: No overload variant of \"get_handle\" matches argument types\u001b[39;00m\n\u001b[0;32m   1215\u001b[0m \u001b[39m# \"Union[str, PathLike[str], ReadCsvBuffer[bytes], ReadCsvBuffer[str]]\"\u001b[39;00m\n\u001b[0;32m   1216\u001b[0m \u001b[39m# , \"str\", \"bool\", \"Any\", \"Any\", \"Any\", \"Any\", \"Any\"\u001b[39;00m\n\u001b[1;32m-> 1217\u001b[0m \u001b[39mself\u001b[39m\u001b[39m.\u001b[39mhandles \u001b[39m=\u001b[39m get_handle(  \u001b[39m# type: ignore[call-overload]\u001b[39;49;00m\n\u001b[0;32m   1218\u001b[0m     f,\n\u001b[0;32m   1219\u001b[0m     mode,\n\u001b[0;32m   1220\u001b[0m     encoding\u001b[39m=\u001b[39;49m\u001b[39mself\u001b[39;49m\u001b[39m.\u001b[39;49moptions\u001b[39m.\u001b[39;49mget(\u001b[39m\"\u001b[39;49m\u001b[39mencoding\u001b[39;49m\u001b[39m\"\u001b[39;49m, \u001b[39mNone\u001b[39;49;00m),\n\u001b[0;32m   1221\u001b[0m     compression\u001b[39m=\u001b[39;49m\u001b[39mself\u001b[39;49m\u001b[39m.\u001b[39;49moptions\u001b[39m.\u001b[39;49mget(\u001b[39m\"\u001b[39;49m\u001b[39mcompression\u001b[39;49m\u001b[39m\"\u001b[39;49m, \u001b[39mNone\u001b[39;49;00m),\n\u001b[0;32m   1222\u001b[0m     memory_map\u001b[39m=\u001b[39;49m\u001b[39mself\u001b[39;49m\u001b[39m.\u001b[39;49moptions\u001b[39m.\u001b[39;49mget(\u001b[39m\"\u001b[39;49m\u001b[39mmemory_map\u001b[39;49m\u001b[39m\"\u001b[39;49m, \u001b[39mFalse\u001b[39;49;00m),\n\u001b[0;32m   1223\u001b[0m     is_text\u001b[39m=\u001b[39;49mis_text,\n\u001b[0;32m   1224\u001b[0m     errors\u001b[39m=\u001b[39;49m\u001b[39mself\u001b[39;49m\u001b[39m.\u001b[39;49moptions\u001b[39m.\u001b[39;49mget(\u001b[39m\"\u001b[39;49m\u001b[39mencoding_errors\u001b[39;49m\u001b[39m\"\u001b[39;49m, \u001b[39m\"\u001b[39;49m\u001b[39mstrict\u001b[39;49m\u001b[39m\"\u001b[39;49m),\n\u001b[0;32m   1225\u001b[0m     storage_options\u001b[39m=\u001b[39;49m\u001b[39mself\u001b[39;49m\u001b[39m.\u001b[39;49moptions\u001b[39m.\u001b[39;49mget(\u001b[39m\"\u001b[39;49m\u001b[39mstorage_options\u001b[39;49m\u001b[39m\"\u001b[39;49m, \u001b[39mNone\u001b[39;49;00m),\n\u001b[0;32m   1226\u001b[0m )\n\u001b[0;32m   1227\u001b[0m \u001b[39massert\u001b[39;00m \u001b[39mself\u001b[39m\u001b[39m.\u001b[39mhandles \u001b[39mis\u001b[39;00m \u001b[39mnot\u001b[39;00m \u001b[39mNone\u001b[39;00m\n\u001b[0;32m   1228\u001b[0m f \u001b[39m=\u001b[39m \u001b[39mself\u001b[39m\u001b[39m.\u001b[39mhandles\u001b[39m.\u001b[39mhandle\n",
      "File \u001b[1;32mc:\\Users\\Glasssix-KP\\anaconda3\\lib\\site-packages\\pandas\\io\\common.py:789\u001b[0m, in \u001b[0;36mget_handle\u001b[1;34m(path_or_buf, mode, encoding, compression, memory_map, is_text, errors, storage_options)\u001b[0m\n\u001b[0;32m    784\u001b[0m \u001b[39melif\u001b[39;00m \u001b[39misinstance\u001b[39m(handle, \u001b[39mstr\u001b[39m):\n\u001b[0;32m    785\u001b[0m     \u001b[39m# Check whether the filename is to be opened in binary mode.\u001b[39;00m\n\u001b[0;32m    786\u001b[0m     \u001b[39m# Binary mode does not support 'encoding' and 'newline'.\u001b[39;00m\n\u001b[0;32m    787\u001b[0m     \u001b[39mif\u001b[39;00m ioargs\u001b[39m.\u001b[39mencoding \u001b[39mand\u001b[39;00m \u001b[39m\"\u001b[39m\u001b[39mb\u001b[39m\u001b[39m\"\u001b[39m \u001b[39mnot\u001b[39;00m \u001b[39min\u001b[39;00m ioargs\u001b[39m.\u001b[39mmode:\n\u001b[0;32m    788\u001b[0m         \u001b[39m# Encoding\u001b[39;00m\n\u001b[1;32m--> 789\u001b[0m         handle \u001b[39m=\u001b[39m \u001b[39mopen\u001b[39;49m(\n\u001b[0;32m    790\u001b[0m             handle,\n\u001b[0;32m    791\u001b[0m             ioargs\u001b[39m.\u001b[39;49mmode,\n\u001b[0;32m    792\u001b[0m             encoding\u001b[39m=\u001b[39;49mioargs\u001b[39m.\u001b[39;49mencoding,\n\u001b[0;32m    793\u001b[0m             errors\u001b[39m=\u001b[39;49merrors,\n\u001b[0;32m    794\u001b[0m             newline\u001b[39m=\u001b[39;49m\u001b[39m\"\u001b[39;49m\u001b[39m\"\u001b[39;49m,\n\u001b[0;32m    795\u001b[0m         )\n\u001b[0;32m    796\u001b[0m     \u001b[39melse\u001b[39;00m:\n\u001b[0;32m    797\u001b[0m         \u001b[39m# Binary mode\u001b[39;00m\n\u001b[0;32m    798\u001b[0m         handle \u001b[39m=\u001b[39m \u001b[39mopen\u001b[39m(handle, ioargs\u001b[39m.\u001b[39mmode)\n",
      "\u001b[1;31mFileNotFoundError\u001b[0m: [Errno 2] No such file or directory: 'RAIL-speed.csv'"
     ]
    }
   ],
   "source": [
    "all_data = pd.read_csv('RAIL-speed.csv')\n",
    "all_data"
   ]
  },
  {
   "cell_type": "code",
   "execution_count": 14,
   "metadata": {},
   "outputs": [
    {
     "ename": "NameError",
     "evalue": "name 'all_data' is not defined",
     "output_type": "error",
     "traceback": [
      "\u001b[1;31m---------------------------------------------------------------------------\u001b[0m",
      "\u001b[1;31mNameError\u001b[0m                                 Traceback (most recent call last)",
      "\u001b[1;32md:\\Python\\WaveFiltering.ipynb Cell 13\u001b[0m in \u001b[0;36m<cell line: 1>\u001b[1;34m()\u001b[0m\n\u001b[1;32m----> <a href='vscode-notebook-cell:/d%3A/Python/WaveFiltering.ipynb#X15sZmlsZQ%3D%3D?line=0'>1</a>\u001b[0m series \u001b[39m=\u001b[39m all_data[\u001b[39m'\u001b[39m\u001b[39mR0\u001b[39m\u001b[39m'\u001b[39m]\n\u001b[0;32m      <a href='vscode-notebook-cell:/d%3A/Python/WaveFiltering.ipynb#X15sZmlsZQ%3D%3D?line=2'>3</a>\u001b[0m get_ipython()\u001b[39m.\u001b[39mrun_line_magic(\u001b[39m'\u001b[39m\u001b[39mmatplotlib\u001b[39m\u001b[39m'\u001b[39m, \u001b[39m'\u001b[39m\u001b[39m'\u001b[39m)\n\u001b[0;32m      <a href='vscode-notebook-cell:/d%3A/Python/WaveFiltering.ipynb#X15sZmlsZQ%3D%3D?line=3'>4</a>\u001b[0m plt\u001b[39m.\u001b[39mfigure(figsize\u001b[39m=\u001b[39m(\u001b[39m20\u001b[39m, \u001b[39m10\u001b[39m))\n",
      "\u001b[1;31mNameError\u001b[0m: name 'all_data' is not defined"
     ]
    }
   ],
   "source": [
    "series = all_data['R0']\n",
    "\n",
    "%matplotlib\n",
    "plt.figure(figsize=(20, 10))\n",
    "plt.subplot(3,1,1)\n",
    "plt.plot(series)\n",
    "plt.show()\n",
    "\n",
    "gradient_result = gradient(series)\n",
    "plt.subplot(3,1,2)\n",
    "plt.plot(gradient_result)\n",
    "\n",
    "result = gradient_filter(series, -0.5, 7)\n",
    "plt.subplot(3,1,3)\n",
    "plt.plot(result)\n",
    "plt.show()"
   ]
  },
  {
   "cell_type": "code",
   "execution_count": null,
   "metadata": {},
   "outputs": [],
   "source": []
  }
 ],
 "metadata": {
  "kernelspec": {
   "display_name": "Python 3.9.12 ('base')",
   "language": "python",
   "name": "python3"
  },
  "language_info": {
   "codemirror_mode": {
    "name": "ipython",
    "version": 3
   },
   "file_extension": ".py",
   "mimetype": "text/x-python",
   "name": "python",
   "nbconvert_exporter": "python",
   "pygments_lexer": "ipython3",
   "version": "3.9.12"
  },
  "orig_nbformat": 4,
  "vscode": {
   "interpreter": {
    "hash": "f2d996236baa7b6e2f079f9c8a0706eb2d783ca855786ba79a4b8fb51190b240"
   }
  }
 },
 "nbformat": 4,
 "nbformat_minor": 2
}
